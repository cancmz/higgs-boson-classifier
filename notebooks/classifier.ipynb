{
 "cells": [
  {
   "metadata": {},
   "cell_type": "markdown",
   "source": [
    "# HiggsML Classifier – CERN Open Data Project\n",
    "\n",
    "This notebook implements a binary classification model to separate signal and background events using the Higgs Boson Challenge dataset.\n",
    "\n",
    "Author: Ahmet Can Çömez"
   ],
   "id": "6124abe5d72c1a2d"
  },
  {
   "metadata": {},
   "cell_type": "markdown",
   "source": [
    "## Importing Required Libraries\n",
    "\n",
    "This cell imports the essential libraries used throughout the project:\n",
    "\n",
    "- `pandas` and `numpy` for data manipulation and numerical operations\n",
    "- `matplotlib.pyplot` and `seaborn` for data visualization\n",
    "- `scikit-learn` modules for data preprocessing, model training, and evaluation\n"
   ],
   "id": "1ef0323e702a374d"
  },
  {
   "metadata": {
    "ExecuteTime": {
     "end_time": "2025-08-01T17:59:40.493745Z",
     "start_time": "2025-08-01T17:59:39.338427Z"
    }
   },
   "cell_type": "code",
   "source": [
    "import pandas as pd\n",
    "import numpy as np\n",
    "import matplotlib.pyplot as plt\n",
    "import seaborn as sns\n",
    "\n",
    "from sklearn.model_selection import train_test_split\n",
    "from sklearn.preprocessing import StandardScaler\n",
    "from sklearn.ensemble import GradientBoostingClassifier\n",
    "from sklearn.metrics import roc_curve, roc_auc_score"
   ],
   "id": "66ee6b20cb005a77",
   "outputs": [],
   "execution_count": 3
  },
  {
   "metadata": {},
   "cell_type": "markdown",
   "source": [
    "## Loading the Dataset\n",
    "\n",
    "The dataset is loaded from a local CSV file.\n",
    "We first inspect the shape of the data to understand the number of samples and features, and then display the first few rows using `head()` to preview the structure.\n"
   ],
   "id": "67dca81f718bcf7d"
  },
  {
   "metadata": {
    "ExecuteTime": {
     "end_time": "2025-08-01T17:59:43.069173Z",
     "start_time": "2025-08-01T17:59:42.640517Z"
    }
   },
   "cell_type": "code",
   "source": [
    "df = pd.read_csv('../data/training.csv')\n",
    "print(f\"shape of df: {df.shape}\")\n",
    "df.head()"
   ],
   "id": "abdd6be753521c16",
   "outputs": [
    {
     "name": "stdout",
     "output_type": "stream",
     "text": [
      "shape of df: (250000, 33)\n"
     ]
    },
    {
     "data": {
      "text/plain": [
       "   EventId  DER_mass_MMC  DER_mass_transverse_met_lep  DER_mass_vis  DER_pt_h  \\\n",
       "0   100000       138.470                       51.655        97.827    27.980   \n",
       "1   100001       160.937                       68.768       103.235    48.146   \n",
       "2   100002      -999.000                      162.172       125.953    35.635   \n",
       "3   100003       143.905                       81.417        80.943     0.414   \n",
       "4   100004       175.864                       16.915       134.805    16.405   \n",
       "\n",
       "   DER_deltaeta_jet_jet  DER_mass_jet_jet  DER_prodeta_jet_jet  \\\n",
       "0                  0.91           124.711                2.666   \n",
       "1               -999.00          -999.000             -999.000   \n",
       "2               -999.00          -999.000             -999.000   \n",
       "3               -999.00          -999.000             -999.000   \n",
       "4               -999.00          -999.000             -999.000   \n",
       "\n",
       "   DER_deltar_tau_lep  DER_pt_tot  ...  PRI_jet_num  PRI_jet_leading_pt  \\\n",
       "0               3.064      41.928  ...            2              67.435   \n",
       "1               3.473       2.078  ...            1              46.226   \n",
       "2               3.148       9.336  ...            1              44.251   \n",
       "3               3.310       0.414  ...            0            -999.000   \n",
       "4               3.891      16.405  ...            0            -999.000   \n",
       "\n",
       "   PRI_jet_leading_eta  PRI_jet_leading_phi  PRI_jet_subleading_pt  \\\n",
       "0                2.150                0.444                 46.062   \n",
       "1                0.725                1.158               -999.000   \n",
       "2                2.053               -2.028               -999.000   \n",
       "3             -999.000             -999.000               -999.000   \n",
       "4             -999.000             -999.000               -999.000   \n",
       "\n",
       "   PRI_jet_subleading_eta  PRI_jet_subleading_phi  PRI_jet_all_pt    Weight  \\\n",
       "0                    1.24                  -2.475         113.497  0.002653   \n",
       "1                 -999.00                -999.000          46.226  2.233584   \n",
       "2                 -999.00                -999.000          44.251  2.347389   \n",
       "3                 -999.00                -999.000          -0.000  5.446378   \n",
       "4                 -999.00                -999.000           0.000  6.245333   \n",
       "\n",
       "   Label  \n",
       "0      s  \n",
       "1      b  \n",
       "2      b  \n",
       "3      b  \n",
       "4      b  \n",
       "\n",
       "[5 rows x 33 columns]"
      ],
      "text/html": [
       "<div>\n",
       "<style scoped>\n",
       "    .dataframe tbody tr th:only-of-type {\n",
       "        vertical-align: middle;\n",
       "    }\n",
       "\n",
       "    .dataframe tbody tr th {\n",
       "        vertical-align: top;\n",
       "    }\n",
       "\n",
       "    .dataframe thead th {\n",
       "        text-align: right;\n",
       "    }\n",
       "</style>\n",
       "<table border=\"1\" class=\"dataframe\">\n",
       "  <thead>\n",
       "    <tr style=\"text-align: right;\">\n",
       "      <th></th>\n",
       "      <th>EventId</th>\n",
       "      <th>DER_mass_MMC</th>\n",
       "      <th>DER_mass_transverse_met_lep</th>\n",
       "      <th>DER_mass_vis</th>\n",
       "      <th>DER_pt_h</th>\n",
       "      <th>DER_deltaeta_jet_jet</th>\n",
       "      <th>DER_mass_jet_jet</th>\n",
       "      <th>DER_prodeta_jet_jet</th>\n",
       "      <th>DER_deltar_tau_lep</th>\n",
       "      <th>DER_pt_tot</th>\n",
       "      <th>...</th>\n",
       "      <th>PRI_jet_num</th>\n",
       "      <th>PRI_jet_leading_pt</th>\n",
       "      <th>PRI_jet_leading_eta</th>\n",
       "      <th>PRI_jet_leading_phi</th>\n",
       "      <th>PRI_jet_subleading_pt</th>\n",
       "      <th>PRI_jet_subleading_eta</th>\n",
       "      <th>PRI_jet_subleading_phi</th>\n",
       "      <th>PRI_jet_all_pt</th>\n",
       "      <th>Weight</th>\n",
       "      <th>Label</th>\n",
       "    </tr>\n",
       "  </thead>\n",
       "  <tbody>\n",
       "    <tr>\n",
       "      <th>0</th>\n",
       "      <td>100000</td>\n",
       "      <td>138.470</td>\n",
       "      <td>51.655</td>\n",
       "      <td>97.827</td>\n",
       "      <td>27.980</td>\n",
       "      <td>0.91</td>\n",
       "      <td>124.711</td>\n",
       "      <td>2.666</td>\n",
       "      <td>3.064</td>\n",
       "      <td>41.928</td>\n",
       "      <td>...</td>\n",
       "      <td>2</td>\n",
       "      <td>67.435</td>\n",
       "      <td>2.150</td>\n",
       "      <td>0.444</td>\n",
       "      <td>46.062</td>\n",
       "      <td>1.24</td>\n",
       "      <td>-2.475</td>\n",
       "      <td>113.497</td>\n",
       "      <td>0.002653</td>\n",
       "      <td>s</td>\n",
       "    </tr>\n",
       "    <tr>\n",
       "      <th>1</th>\n",
       "      <td>100001</td>\n",
       "      <td>160.937</td>\n",
       "      <td>68.768</td>\n",
       "      <td>103.235</td>\n",
       "      <td>48.146</td>\n",
       "      <td>-999.00</td>\n",
       "      <td>-999.000</td>\n",
       "      <td>-999.000</td>\n",
       "      <td>3.473</td>\n",
       "      <td>2.078</td>\n",
       "      <td>...</td>\n",
       "      <td>1</td>\n",
       "      <td>46.226</td>\n",
       "      <td>0.725</td>\n",
       "      <td>1.158</td>\n",
       "      <td>-999.000</td>\n",
       "      <td>-999.00</td>\n",
       "      <td>-999.000</td>\n",
       "      <td>46.226</td>\n",
       "      <td>2.233584</td>\n",
       "      <td>b</td>\n",
       "    </tr>\n",
       "    <tr>\n",
       "      <th>2</th>\n",
       "      <td>100002</td>\n",
       "      <td>-999.000</td>\n",
       "      <td>162.172</td>\n",
       "      <td>125.953</td>\n",
       "      <td>35.635</td>\n",
       "      <td>-999.00</td>\n",
       "      <td>-999.000</td>\n",
       "      <td>-999.000</td>\n",
       "      <td>3.148</td>\n",
       "      <td>9.336</td>\n",
       "      <td>...</td>\n",
       "      <td>1</td>\n",
       "      <td>44.251</td>\n",
       "      <td>2.053</td>\n",
       "      <td>-2.028</td>\n",
       "      <td>-999.000</td>\n",
       "      <td>-999.00</td>\n",
       "      <td>-999.000</td>\n",
       "      <td>44.251</td>\n",
       "      <td>2.347389</td>\n",
       "      <td>b</td>\n",
       "    </tr>\n",
       "    <tr>\n",
       "      <th>3</th>\n",
       "      <td>100003</td>\n",
       "      <td>143.905</td>\n",
       "      <td>81.417</td>\n",
       "      <td>80.943</td>\n",
       "      <td>0.414</td>\n",
       "      <td>-999.00</td>\n",
       "      <td>-999.000</td>\n",
       "      <td>-999.000</td>\n",
       "      <td>3.310</td>\n",
       "      <td>0.414</td>\n",
       "      <td>...</td>\n",
       "      <td>0</td>\n",
       "      <td>-999.000</td>\n",
       "      <td>-999.000</td>\n",
       "      <td>-999.000</td>\n",
       "      <td>-999.000</td>\n",
       "      <td>-999.00</td>\n",
       "      <td>-999.000</td>\n",
       "      <td>-0.000</td>\n",
       "      <td>5.446378</td>\n",
       "      <td>b</td>\n",
       "    </tr>\n",
       "    <tr>\n",
       "      <th>4</th>\n",
       "      <td>100004</td>\n",
       "      <td>175.864</td>\n",
       "      <td>16.915</td>\n",
       "      <td>134.805</td>\n",
       "      <td>16.405</td>\n",
       "      <td>-999.00</td>\n",
       "      <td>-999.000</td>\n",
       "      <td>-999.000</td>\n",
       "      <td>3.891</td>\n",
       "      <td>16.405</td>\n",
       "      <td>...</td>\n",
       "      <td>0</td>\n",
       "      <td>-999.000</td>\n",
       "      <td>-999.000</td>\n",
       "      <td>-999.000</td>\n",
       "      <td>-999.000</td>\n",
       "      <td>-999.00</td>\n",
       "      <td>-999.000</td>\n",
       "      <td>0.000</td>\n",
       "      <td>6.245333</td>\n",
       "      <td>b</td>\n",
       "    </tr>\n",
       "  </tbody>\n",
       "</table>\n",
       "<p>5 rows × 33 columns</p>\n",
       "</div>"
      ]
     },
     "execution_count": 4,
     "metadata": {},
     "output_type": "execute_result"
    }
   ],
   "execution_count": 4
  },
  {
   "metadata": {},
   "cell_type": "markdown",
   "source": [
    "## Target Variable Encoding\n",
    "\n",
    "The categorical target column `Label` is converted to binary numerical values:\n",
    "- `'s'` (signal) → 1\n",
    "- `'b'` (background) → 0\n",
    "\n",
    "This transformation is required for compatibility with machine learning algorithms.\n",
    "The updated distribution is reviewed to verify label encoding and assess class balance.\n"
   ],
   "id": "36e793fc088eba08"
  },
  {
   "metadata": {
    "ExecuteTime": {
     "end_time": "2025-08-01T18:01:05.946191Z",
     "start_time": "2025-08-01T18:01:05.937152Z"
    }
   },
   "cell_type": "code",
   "source": "df['Label'] = df['Label'].map({'s': 1, 'b': 0})",
   "id": "e16f6df20309fd15",
   "outputs": [],
   "execution_count": 6
  },
  {
   "metadata": {},
   "cell_type": "markdown",
   "source": [
    "## Dataset Overview\n",
    "\n",
    "A concise summary of the dataset is obtained using `df.info()`.\n",
    "This includes column data types, non-null counts, and memory usage.\n",
    "The output is useful for detecting missing values and verifying dataset structure prior to preprocessing.\n"
   ],
   "id": "c89b06a43b612a0a"
  },
  {
   "metadata": {
    "ExecuteTime": {
     "end_time": "2025-08-01T17:07:13.797094Z",
     "start_time": "2025-08-01T17:07:13.782252Z"
    }
   },
   "cell_type": "code",
   "source": "df.info()",
   "id": "5ce364be782a2c43",
   "outputs": [
    {
     "name": "stdout",
     "output_type": "stream",
     "text": [
      "<class 'pandas.core.frame.DataFrame'>\n",
      "RangeIndex: 250000 entries, 0 to 249999\n",
      "Data columns (total 33 columns):\n",
      " #   Column                       Non-Null Count   Dtype  \n",
      "---  ------                       --------------   -----  \n",
      " 0   EventId                      250000 non-null  int64  \n",
      " 1   DER_mass_MMC                 250000 non-null  float64\n",
      " 2   DER_mass_transverse_met_lep  250000 non-null  float64\n",
      " 3   DER_mass_vis                 250000 non-null  float64\n",
      " 4   DER_pt_h                     250000 non-null  float64\n",
      " 5   DER_deltaeta_jet_jet         250000 non-null  float64\n",
      " 6   DER_mass_jet_jet             250000 non-null  float64\n",
      " 7   DER_prodeta_jet_jet          250000 non-null  float64\n",
      " 8   DER_deltar_tau_lep           250000 non-null  float64\n",
      " 9   DER_pt_tot                   250000 non-null  float64\n",
      " 10  DER_sum_pt                   250000 non-null  float64\n",
      " 11  DER_pt_ratio_lep_tau         250000 non-null  float64\n",
      " 12  DER_met_phi_centrality       250000 non-null  float64\n",
      " 13  DER_lep_eta_centrality       250000 non-null  float64\n",
      " 14  PRI_tau_pt                   250000 non-null  float64\n",
      " 15  PRI_tau_eta                  250000 non-null  float64\n",
      " 16  PRI_tau_phi                  250000 non-null  float64\n",
      " 17  PRI_lep_pt                   250000 non-null  float64\n",
      " 18  PRI_lep_eta                  250000 non-null  float64\n",
      " 19  PRI_lep_phi                  250000 non-null  float64\n",
      " 20  PRI_met                      250000 non-null  float64\n",
      " 21  PRI_met_phi                  250000 non-null  float64\n",
      " 22  PRI_met_sumet                250000 non-null  float64\n",
      " 23  PRI_jet_num                  250000 non-null  int64  \n",
      " 24  PRI_jet_leading_pt           250000 non-null  float64\n",
      " 25  PRI_jet_leading_eta          250000 non-null  float64\n",
      " 26  PRI_jet_leading_phi          250000 non-null  float64\n",
      " 27  PRI_jet_subleading_pt        250000 non-null  float64\n",
      " 28  PRI_jet_subleading_eta       250000 non-null  float64\n",
      " 29  PRI_jet_subleading_phi       250000 non-null  float64\n",
      " 30  PRI_jet_all_pt               250000 non-null  float64\n",
      " 31  Weight                       250000 non-null  float64\n",
      " 32  Label                        250000 non-null  int64  \n",
      "dtypes: float64(30), int64(3)\n",
      "memory usage: 62.9 MB\n"
     ]
    }
   ],
   "execution_count": 26
  },
  {
   "metadata": {},
   "cell_type": "markdown",
   "source": [
    "## Visualizing Class Distribution\n",
    "\n",
    "This count plot displays the distribution of the target classes:\n",
    "Signal (`1`) and Background (`0`).\n",
    "It helps identify any class imbalance that may affect model performance.\n"
   ],
   "id": "58f10b47f5e88b44"
  },
  {
   "metadata": {
    "ExecuteTime": {
     "end_time": "2025-08-01T17:07:14.171412Z",
     "start_time": "2025-08-01T17:07:13.939369Z"
    }
   },
   "cell_type": "code",
   "source": [
    "sns.countplot(x='Label', data=df)\n",
    "plt.title(\"Signal (1) vs Background (0) Distribution\")\n",
    "plt.xlabel(\"Label\")\n",
    "plt.ylabel(\"Count\")\n",
    "plt.grid(True)\n",
    "plt.show()\n"
   ],
   "id": "165cac63e78a071a",
   "outputs": [
    {
     "data": {
      "text/plain": [
       "<Figure size 640x480 with 1 Axes>"
      ],
      "image/png": "[encoded data removed]"
     },
     "metadata": {},
     "output_type": "display_data"
    }
   ],
   "execution_count": 27
  },
  {
   "metadata": {},
   "cell_type": "markdown",
   "source": [
    "## Feature and Target Definition\n",
    "\n",
    "The dataset is split into input features (`X`) and target labels (`Y`).\n",
    "The `Label`, `Weight`, and `EventId` columns are excluded from the feature matrix as they are either target indicators or metadata.\n",
    "This step structures the data appropriately for supervised learning.\n"
   ],
   "id": "dd26eb232d47df14"
  },
  {
   "metadata": {
    "ExecuteTime": {
     "end_time": "2025-08-01T17:07:14.227251Z",
     "start_time": "2025-08-01T17:07:14.191713Z"
    }
   },
   "cell_type": "code",
   "source": [
    "X = df.drop(['Label', 'Weight', 'EventId'], axis=1)\n",
    "Y = df['Label']"
   ],
   "id": "516da8a9f1abafb6",
   "outputs": [
    {
     "name": "stdout",
     "output_type": "stream",
     "text": [
      "        DER_mass_MMC  DER_mass_transverse_met_lep  DER_mass_vis  DER_pt_h  \\\n",
      "0            138.470                       51.655        97.827    27.980   \n",
      "1            160.937                       68.768       103.235    48.146   \n",
      "2           -999.000                      162.172       125.953    35.635   \n",
      "3            143.905                       81.417        80.943     0.414   \n",
      "4            175.864                       16.915       134.805    16.405   \n",
      "...              ...                          ...           ...       ...   \n",
      "249995      -999.000                       71.989        36.548     5.042   \n",
      "249996      -999.000                       58.179        68.083    22.439   \n",
      "249997       105.457                       60.526        75.839    39.757   \n",
      "249998        94.951                       19.362        68.812    13.504   \n",
      "249999      -999.000                       72.756        70.831     7.479   \n",
      "\n",
      "        DER_deltaeta_jet_jet  DER_mass_jet_jet  DER_prodeta_jet_jet  \\\n",
      "0                       0.91           124.711                2.666   \n",
      "1                    -999.00          -999.000             -999.000   \n",
      "2                    -999.00          -999.000             -999.000   \n",
      "3                    -999.00          -999.000             -999.000   \n",
      "4                    -999.00          -999.000             -999.000   \n",
      "...                      ...               ...                  ...   \n",
      "249995               -999.00          -999.000             -999.000   \n",
      "249996               -999.00          -999.000             -999.000   \n",
      "249997               -999.00          -999.000             -999.000   \n",
      "249998               -999.00          -999.000             -999.000   \n",
      "249999               -999.00          -999.000             -999.000   \n",
      "\n",
      "        DER_deltar_tau_lep  DER_pt_tot  DER_sum_pt  ...  PRI_met_phi  \\\n",
      "0                    3.064      41.928     197.760  ...       -0.277   \n",
      "1                    3.473       2.078     125.157  ...       -1.916   \n",
      "2                    3.148       9.336     197.814  ...       -2.186   \n",
      "3                    3.310       0.414      75.968  ...        0.060   \n",
      "4                    3.891      16.405      57.983  ...       -0.871   \n",
      "...                    ...         ...         ...  ...          ...   \n",
      "249995               1.392       5.042      55.892  ...        2.859   \n",
      "249996               2.585      22.439      50.618  ...       -0.867   \n",
      "249997               2.390      22.183     120.462  ...       -2.890   \n",
      "249998               3.365      13.504      55.859  ...        0.811   \n",
      "249999               2.025       7.479      83.240  ...       -1.596   \n",
      "\n",
      "        PRI_met_sumet  PRI_jet_num  PRI_jet_leading_pt  PRI_jet_leading_eta  \\\n",
      "0             258.733            2              67.435                2.150   \n",
      "1             164.546            1              46.226                0.725   \n",
      "2             260.414            1              44.251                2.053   \n",
      "3              86.062            0            -999.000             -999.000   \n",
      "4              53.131            0            -999.000             -999.000   \n",
      "...               ...          ...                 ...                  ...   \n",
      "249995        144.665            0            -999.000             -999.000   \n",
      "249996         80.408            0            -999.000             -999.000   \n",
      "249997        198.907            1              41.992                1.800   \n",
      "249998        112.718            0            -999.000             -999.000   \n",
      "249999         99.405            0            -999.000             -999.000   \n",
      "\n",
      "        PRI_jet_leading_phi  PRI_jet_subleading_pt  PRI_jet_subleading_eta  \\\n",
      "0                     0.444                 46.062                    1.24   \n",
      "1                     1.158               -999.000                 -999.00   \n",
      "2                    -2.028               -999.000                 -999.00   \n",
      "3                  -999.000               -999.000                 -999.00   \n",
      "4                  -999.000               -999.000                 -999.00   \n",
      "...                     ...                    ...                     ...   \n",
      "249995             -999.000               -999.000                 -999.00   \n",
      "249996             -999.000               -999.000                 -999.00   \n",
      "249997               -0.166               -999.000                 -999.00   \n",
      "249998             -999.000               -999.000                 -999.00   \n",
      "249999             -999.000               -999.000                 -999.00   \n",
      "\n",
      "        PRI_jet_subleading_phi  PRI_jet_all_pt  \n",
      "0                       -2.475         113.497  \n",
      "1                     -999.000          46.226  \n",
      "2                     -999.000          44.251  \n",
      "3                     -999.000          -0.000  \n",
      "4                     -999.000           0.000  \n",
      "...                        ...             ...  \n",
      "249995                -999.000           0.000  \n",
      "249996                -999.000          -0.000  \n",
      "249997                -999.000          41.992  \n",
      "249998                -999.000           0.000  \n",
      "249999                -999.000           0.000  \n",
      "\n",
      "[250000 rows x 30 columns]\n"
     ]
    }
   ],
   "execution_count": 28
  },
  {
   "metadata": {},
   "cell_type": "markdown",
   "source": [
    "## Train-Test Split and Feature Scaling\n",
    "\n",
    "The dataset is divided into training and testing subsets using an 80-20 split.\n",
    "Feature standardization is then applied using `StandardScaler`, transforming the data to have zero mean and unit variance.\n",
    "This preprocessing step is essential for optimizing the performance and stability of many machine learning algorithms, including gradient boosting.\n"
   ],
   "id": "8474563d47fc79a8"
  },
  {
   "metadata": {
    "ExecuteTime": {
     "end_time": "2025-08-01T17:07:14.367249Z",
     "start_time": "2025-08-01T17:07:14.248005Z"
    }
   },
   "cell_type": "code",
   "source": [
    "X_train, X_test, Y_train, Y_test = train_test_split(X, Y, test_size=0.2, random_state=42)\n",
    "scaler = StandardScaler()\n",
    "X_train_scaled = scaler.fit_transform(X_train)\n",
    "X_test_scaled = scaler.transform(X_test)"
   ],
   "id": "da468353102f199f",
   "outputs": [],
   "execution_count": 29
  },
  {
   "metadata": {},
   "cell_type": "markdown",
   "source": [
    "## Gradient Boosting Classifier Training\n",
    "\n",
    "A `GradientBoostingClassifier` is instantiated with the following hyperparameters:\n",
    "- `learning_rate = 0.1`\n",
    "- `max_depth = 5`\n",
    "- `n_estimators = 200`\n",
    "- `subsample = 0.8`\n",
    "\n",
    "The model is fitted on the standardized training data.\n",
    "After training, class predictions (`y_pred`) and predicted probabilities (`y_score`) are computed on the test set for subsequent evaluation.\n"
   ],
   "id": "1219b1d4c3aeb0eb"
  },
  {
   "metadata": {
    "ExecuteTime": {
     "end_time": "2025-08-01T17:11:20.905208Z",
     "start_time": "2025-08-01T17:07:14.387763Z"
    }
   },
   "cell_type": "code",
   "source": [
    "from sklearn.ensemble import GradientBoostingClassifier\n",
    "\n",
    "model = GradientBoostingClassifier(\n",
    "    learning_rate=0.1,\n",
    "    max_depth=5,\n",
    "    n_estimators=200,\n",
    "    subsample=0.8,\n",
    "    random_state=42\n",
    ")\n",
    "\n",
    "model.fit(X_train_scaled, Y_train)\n",
    "y_pred = model.predict(X_test_scaled)\n",
    "y_score = model.predict_proba(X_test_scaled)[:, 1]\n"
   ],
   "id": "75e8b8f3817b1062",
   "outputs": [],
   "execution_count": 30
  },
  {
   "metadata": {},
   "cell_type": "markdown",
   "source": [
    "## ROC Curve and AUC Score Evaluation\n",
    "\n",
    "The Receiver Operating Characteristic (ROC) curve is generated to assess the model's classification performance.\n",
    "The Area Under the Curve (AUC) is calculated to quantify the classifier's ability to distinguish between signal and background classes.\n",
    "AUC values closer to 1.0 indicate strong predictive performance.\n"
   ],
   "id": "3703790575100ad2"
  },
  {
   "metadata": {
    "ExecuteTime": {
     "end_time": "2025-08-01T17:47:40.496690Z",
     "start_time": "2025-08-01T17:47:40.419553Z"
    }
   },
   "cell_type": "code",
   "source": [
    "from sklearn.metrics import roc_curve, roc_auc_score\n",
    "\n",
    "fpr, tpr, thresholds = roc_curve(Y_test, y_score)\n",
    "auc_score = roc_auc_score(Y_test, y_score)\n",
    "\n",
    "plt.figure(figsize=(8, 6))\n",
    "plt.plot(fpr, tpr, label=f\"AUC = {auc_score:.3f}\")\n",
    "plt.plot([0, 1], [0, 1], 'k--')\n",
    "plt.xlabel(\"False Positive Rate\")\n",
    "plt.ylabel(\"True Positive Rate\")\n",
    "plt.title(\"ROC Curve\")\n",
    "plt.legend()\n",
    "plt.grid(True)\n",
    "plt.show()\n"
   ],
   "id": "8258e008c77b76a2",
   "outputs": [
    {
     "data": {
      "text/plain": [
       "<Figure size 800x600 with 1 Axes>"
      ],
      "image/png": "[encoded data removed]"
     },
     "metadata": {},
     "output_type": "display_data"
    }
   ],
   "execution_count": 36
  },
  {
   "metadata": {},
   "cell_type": "markdown",
   "source": [
    "## Confusion Matrix and Accuracy Score\n",
    "\n",
    "The confusion matrix is computed to provide a detailed breakdown of prediction results, showing true positives, false positives, true negatives, and false negatives.\n",
    "The accuracy score is also calculated to measure the overall proportion of correctly classified samples.\n",
    "This evaluation helps in understanding the model’s performance beyond a single metric.\n"
   ],
   "id": "d4385d8b279ff1d8"
  },
  {
   "metadata": {
    "ExecuteTime": {
     "end_time": "2025-08-01T17:49:14.449172Z",
     "start_time": "2025-08-01T17:49:14.342580Z"
    }
   },
   "cell_type": "code",
   "source": [
    "from sklearn.metrics import confusion_matrix, ConfusionMatrixDisplay, accuracy_score\n",
    "\n",
    "cm = confusion_matrix(Y_test, y_pred)\n",
    "disp = ConfusionMatrixDisplay(confusion_matrix=cm, display_labels=[\"Background (0)\", \"Signal (1)\"])\n",
    "disp.plot(cmap='Blues')\n",
    "\n",
    "acc = accuracy_score(Y_test, y_pred)\n",
    "print(f\"Accuracy: {acc:.4f}\")\n"
   ],
   "id": "f16e7e9a1cdbbaf5",
   "outputs": [
    {
     "name": "stdout",
     "output_type": "stream",
     "text": [
      "Accuracy: 0.8411\n"
     ]
    },
    {
     "data": {
      "text/plain": [
       "<Figure size 640x480 with 2 Axes>"
      ],
      "image/png": "[encoded data removed]"
     },
     "metadata": {},
     "output_type": "display_data"
    }
   ],
   "execution_count": 37
  },
  {
   "metadata": {},
   "cell_type": "markdown",
   "source": [
    "## Saving the Trained Model\n",
    "\n",
    "The trained `GradientBoostingClassifier` is serialized and saved using the `joblib` library.\n",
    "This allows the model to be reloaded later for inference or integration into other systems without retraining.\n"
   ],
   "id": "edd0f5a3a535a717"
  },
  {
   "metadata": {
    "ExecuteTime": {
     "end_time": "2025-08-01T17:14:22.206267Z",
     "start_time": "2025-08-01T17:14:22.198788Z"
    }
   },
   "cell_type": "code",
   "source": [
    "import joblib\n",
    "\n",
    "joblib.dump(model, \"models/higgs_classifier.joblib\")"
   ],
   "id": "93c5cce189a6be7a",
   "outputs": [
    {
     "data": {
      "text/plain": [
       "['models/higgs_classifier.joblib']"
      ]
     },
     "execution_count": 35,
     "metadata": {},
     "output_type": "execute_result"
    }
   ],
   "execution_count": 35
  }
 ],
 "metadata": {},
 "nbformat": 4,
 "nbformat_minor": 5
}
